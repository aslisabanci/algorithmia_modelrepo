{
 "cells": [
  {
   "cell_type": "markdown",
   "metadata": {},
   "source": [
    "# Template Model Development Notebook"
   ]
  },
  {
   "cell_type": "markdown",
   "metadata": {},
   "source": [
    "## 1. Train, evaluate and test your ML model\n",
    "First train, evaluate and test your model as usual."
   ]
  },
  {
   "cell_type": "markdown",
   "metadata": {},
   "source": [
    "## 2. Save your model object to a file\n",
    "When your model is ready, save it locally. \n",
    "\n",
    "Default expected model name by the automated deploy workflow is `model.pkl` If you prefer another name, make sure to put it in your `./github/algorithmia_deploy.yml` \n",
    "\n",
    "The Github Action will then take this model file from this path and upload it to Algorithmia. You do not need to check-in your model file to this repository. This notebook will be executed on a Github worker machine and the Github Action workplace will take it from there. \n",
    "\n",
    "An example would be as below:"
   ]
  },
  {
   "cell_type": "code",
   "execution_count": null,
   "metadata": {},
   "outputs": [],
   "source": [
    "import os\n",
    "model_path = \"model.pkl\"\n",
    "joblib.dump(model, model_path, compress=True)"
   ]
  },
  {
   "cell_type": "markdown",
   "metadata": {},
   "source": [
    "## 3. Test your inference notebook/script\n",
    "Optionally test your inference code in [YOUR_ALGORITHM_NAME].ipynb or [YOUR_ALGORITHM_NAME].py, as shown in the cell below. \n",
    "\n",
    "Depending on what you prefer, you can do this in two ways:\n",
    "\n",
    "1. If you prefer to write your inference code in `YOUR_ALGORITHM_NAME.ipynb`, make sure to test it after converting it to a .py file, as shown in the cell below. \n",
    "\n",
    "    After the conversion, when you run your .py file as below, the script will begin its execution through your `if __name__ == \"__main__\"` line. \n",
    "\n",
    "    During the continuous deployment process, the Github Action will do the same, ie. convert your YOUR_ALGORITHM_NAME.ipynb notebook into a Python script named `YOUR_ALGORITHM_NAME.py` and push this .py file over to your algorithm repo at Algorithmia.\n",
    "\n",
    "2. You can of course skip the notebook and write your inference code directly in your YOUR_ALGORITHM_NAME.py file too.\n",
    "\n",
    "### Important\n",
    "If the Github action finds a YOUR_ALGORITHM_NAME.py file in your repo, it will copy this file instead of converting your .ipynb. "
   ]
  },
  {
   "cell_type": "code",
   "execution_count": null,
   "metadata": {
    "tags": []
   },
   "outputs": [],
   "source": [
    "!jupyter nbconvert --to script YOUR_ALGORITHM_NAME.ipynb\n",
    "!python3 YOUR_ALGORITHM_NAME.py"
   ]
  },
  {
   "cell_type": "markdown",
   "metadata": {},
   "source": [
    "## Final checks before committing this notebook\n",
    "\n",
    "- Once you are happy with your tests, you can remove the testing snippet from `YOUR_ALGORITHM_NAME.ipynb` Remember that all your code in it will be pushed to Algorithmia. Don't stress though, you can always edit!\n",
    "\n",
    "\n",
    "- Make sure that you do not commit your API_KEY"
   ]
  }
 ],
 "metadata": {
  "kernelspec": {
   "display_name": "Python 3",
   "language": "python",
   "name": "python3"
  },
  "language_info": {
   "codemirror_mode": {
    "name": "ipython",
    "version": 3
   },
   "file_extension": ".py",
   "mimetype": "text/x-python",
   "name": "python",
   "nbconvert_exporter": "python",
   "pygments_lexer": "ipython3",
   "version": "3.8.3-final"
  }
 },
 "nbformat": 4,
 "nbformat_minor": 4
}