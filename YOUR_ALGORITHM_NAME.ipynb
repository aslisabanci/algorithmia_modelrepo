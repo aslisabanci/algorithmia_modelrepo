{
 "cells": [
  {
   "cell_type": "code",
   "execution_count": null,
   "metadata": {},
   "outputs": [],
   "source": [
    "import Algorithmia\n",
    "import json\n",
    "import os.path\n",
    "import joblib\n",
    "import hashlib"
   ]
  },
  {
   "cell_type": "code",
   "execution_count": null,
   "metadata": {
    "tags": []
   },
   "outputs": [],
   "source": [
    "client = Algorithmia.client(\"YOUR_API_KEY\")\n",
    "\n",
    "def load_model_config(config_rel_path=\"model_config.json\"):\n",
    "    \"\"\"Loads the model manifest file as a dict. \n",
    "    A manifest file has the following structure:\n",
    "    {\n",
    "      \"model_filepath\": Uploaded model path on Algorithmia data collection\n",
    "      \"model_md5_hash\": MD5 hash of the uploaded model file\n",
    "      \"model_origin_repo\": Model development repository having the Github CI workflow\n",
    "      \"model_origin_commit_SHA\": Commit SHA related to the trigger of the CI workflow\n",
    "      \"model_origin_commit_msg\": Commit message related to the trigger of the CI workflow\n",
    "      \"model_uploaded_utc\": UTC timestamp of the automated model upload\n",
    "    }\n",
    "    \"\"\"\n",
    "    config = []\n",
    "    config_path = \"{}/{}\".format(os.getcwd(), (config_rel_path))\n",
    "    if os.path.exists(config_path):\n",
    "        with open(config_path) as json_file:\n",
    "            config = json.load(json_file)\n",
    "    return config\n",
    "\n",
    "\n",
    "def load_model(config):\n",
    "    \"\"\"Loads the model object from the file at model_filepath key in config dict\"\"\"\n",
    "    model_path = config[\"model_filepath\"]\n",
    "    model_file = client.file(model_path).getFile().name\n",
    "    model = joblib.load(model_file)\n",
    "    return model_file, model\n",
    "\n",
    "def assert_model_md5(model_file):\n",
    "    \"\"\"\n",
    "    Calculates the loaded model file's MD5 and compares the actual file hash with the hash on the model manifest\n",
    "    \"\"\"\n",
    "    md5_hash = None\n",
    "    DIGEST_BLOCK_SIZE = 128 * 64\n",
    "    with open(model_file, \"rb\") as f:\n",
    "        hasher = hashlib.md5()\n",
    "        buf = f.read(DIGEST_BLOCK_SIZE)\n",
    "        while len(buf) > 0:\n",
    "            hasher.update(buf)\n",
    "            buf = f.read(DIGEST_BLOCK_SIZE)\n",
    "        md5_hash = hasher.hexdigest()\n",
    "    assert config[\"model_md5_hash\"] == md5_hash\n",
    "    print(\"Model file MD5 assertion done.\")\n",
    "\n",
    "\n",
    "config = load_model_config()\n",
    "model_file, model = load_model(config)\n",
    "assert_model_md5(model_file)\n",
    "print(\"MD5 assertion is okay, we have a perfectly uploaded model!\")\n",
    "\n",
    "\n",
    "# API calls will begin at the apply() method, with the request body passed as 'input'\n",
    "# For more details, see algorithmia.com/developers/algorithm-development/languages\n",
    "def apply(input):\n",
    "    print(f\"Echoing back input: {input}\")"
   ]
  },
  {
   "cell_type": "code",
   "execution_count": null,
   "metadata": {
    "tags": []
   },
   "outputs": [],
   "source": [
    "if __name__ == \"__main__\":\n",
    "    algo_input = \"Simple test input\"\n",
    "    print(f\"Calling algorithm apply() func with input: {algo_input}\")\n",
    "\n",
    "    algo_result = apply(algo_input)\n",
    "    print(algo_result)"
   ]
  }
 ],
 "metadata": {
  "kernelspec": {
   "display_name": "Python 3",
   "language": "python",
   "name": "python3"
  },
  "language_info": {
   "codemirror_mode": {
    "name": "ipython",
    "version": 3
   },
   "file_extension": ".py",
   "mimetype": "text/x-python",
   "name": "python",
   "nbconvert_exporter": "python",
   "pygments_lexer": "ipython3",
   "version": "3.8.3-final"
  }
 },
 "nbformat": 4,
 "nbformat_minor": 4
}